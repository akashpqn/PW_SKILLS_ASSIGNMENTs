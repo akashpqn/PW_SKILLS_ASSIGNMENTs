{
 "cells": [
  {
   "cell_type": "markdown",
   "id": "76016017-f889-4cc1-95d0-6f63e7f9280e",
   "metadata": {},
   "source": [
    "Ques1. Which keyword is used to create a function? Create a function to return a list of odd numbers in the range of 1 to 25.\n",
    "\n",
    "\n",
    "Ans> The keyword used to create a function in Python is \"def\". Here's the code to create a function that returns a list of odd numbers in the range of 1 to 25"
   ]
  },
  {
   "cell_type": "code",
   "execution_count": 2,
   "id": "8942096a-f517-4b36-b306-afd9dd45ab57",
   "metadata": {},
   "outputs": [
    {
     "data": {
      "text/plain": [
       "[1, 3, 5, 7, 9, 11, 13, 15, 17, 19, 21, 23, 25]"
      ]
     },
     "execution_count": 2,
     "metadata": {},
     "output_type": "execute_result"
    }
   ],
   "source": [
    "def odd_number_list():\n",
    "    odd_num = []\n",
    "    i = 1\n",
    "    while(i<26): # using while loop\n",
    "        if i % 2 != 0:\n",
    "            odd_num.append(i)\n",
    "        i = i+1    \n",
    "    return odd_num\n",
    "odd_number_list()"
   ]
  },
  {
   "cell_type": "markdown",
   "id": "5b869922-184f-4e17-9bea-f22253b3bb2c",
   "metadata": {},
   "source": [
    "Q2. Why *args and **kwargs is used in some functions? Create a function each for *args and **kwargs \n",
    "to demonstrate their use."
   ]
  },
  {
   "cell_type": "markdown",
   "id": "2e5ac5ae-3d1b-4ff4-84da-d98d77ed9fd4",
   "metadata": {},
   "source": [
    "Ans: *args and **kwargs are used for varying number of input arguments for a function.\n",
    "**kwargs allows us to pass a variable number of keyword arguments to a Python function. In the function, we use the double-asterisk (**) before the parameter name to denote this type of argument."
   ]
  },
  {
   "cell_type": "code",
   "execution_count": 5,
   "id": "a0fe15d7-4c62-4ffd-ac9c-93dbf021123a",
   "metadata": {},
   "outputs": [
    {
     "name": "stdout",
     "output_type": "stream",
     "text": [
      "(1, 2, 3, 4, 66, 7, 7, 8) <class 'tuple'>\n"
     ]
    },
    {
     "data": {
      "text/plain": [
       "((1, 2, 3, 4, 66, 7, 7, 8), 12)"
      ]
     },
     "execution_count": 5,
     "metadata": {},
     "output_type": "execute_result"
    }
   ],
   "source": [
    "#Examples *args\n",
    "def test(*args,a):\n",
    "    print(args,type(args))\n",
    "    return args, a\n",
    "test(1,2,3,4,66,7,7,8, a = 12)"
   ]
  },
  {
   "cell_type": "code",
   "execution_count": 6,
   "id": "8888b40f-f38d-4dd1-9074-c9a4268b1607",
   "metadata": {},
   "outputs": [
    {
     "name": "stdout",
     "output_type": "stream",
     "text": [
      "{'a': 7, 'b': 8, 'c': 9} <class 'dict'>\n"
     ]
    },
    {
     "data": {
      "text/plain": [
       "24"
      ]
     },
     "execution_count": 6,
     "metadata": {},
     "output_type": "execute_result"
    }
   ],
   "source": [
    "#Examples *kwargs\n",
    "def total_kwargs(**kwargs):\n",
    "    total = 0\n",
    "    for amount in kwargs.values():\n",
    "        total += amount\n",
    "    print(kwargs,type(kwargs))    \n",
    "    return total\n",
    "total_kwargs(a= 7, b = 8 , c = 9)"
   ]
  },
  {
   "cell_type": "markdown",
   "id": "41b69ca9-c3ec-4c3b-8de4-ce385a74f641",
   "metadata": {},
   "source": [
    "Q3.  What is an iterator in python? Name the method used to initialise the iterator object and the method \n",
    "used for iteration. Use these methods to print the first five elements of the given list [2, 4, 6, 8, 10, 12, 14, \n",
    "16, 18, 20]."
   ]
  },
  {
   "cell_type": "markdown",
   "id": "158415e7-e2f4-44ab-8231-6e8c67211776",
   "metadata": {},
   "source": [
    "An iterator in Python is an object that implements the iterator protocol, which consists of two methods: iter() and next(). The iter() method is used to initialize the iterator object, and the next() method is used for iteration.\n",
    "The itration is a process of doing same task again and again. Sequences are ordered iterables like list , tuples etc"
   ]
  },
  {
   "cell_type": "code",
   "execution_count": 18,
   "id": "67c32d9d-77d3-4104-911e-653e12161d2f",
   "metadata": {},
   "outputs": [
    {
     "name": "stdout",
     "output_type": "stream",
     "text": [
      "The first 5 numbers:\n",
      "2\n",
      "4\n",
      "6\n",
      "8\n",
      "10\n"
     ]
    }
   ],
   "source": [
    "numbers = [2, 4, 6, 8, 10, 12, 14, 16, 18, 20]\n",
    "\n",
    "class TopNumbers:\n",
    "    def __init__(self, limit):\n",
    "        self.limit = limit\n",
    "        self.counter = 0\n",
    "\n",
    "    def __iter__(self):\n",
    "        return self\n",
    "\n",
    "    def __next__(self):\n",
    "        if self.counter < self.limit:\n",
    "            number = numbers[self.counter]\n",
    "            self.counter += 1\n",
    "            return number\n",
    "        else:\n",
    "            raise StopIteration\n",
    "\n",
    "print(\"The first 5 numbers:\")\n",
    "for number in TopNumbers(5):\n",
    "    print(number)"
   ]
  },
  {
   "cell_type": "markdown",
   "id": "80fae29e-1652-47b8-97d9-8f1a3d06ec2a",
   "metadata": {},
   "source": [
    "Q4.  What is a generator function in python? Why yield keyword is used? Give an example of a generator \n",
    "function."
   ]
  },
  {
   "cell_type": "markdown",
   "id": "8353382c-92a2-40cd-9442-d28bc9ce8f3d",
   "metadata": {},
   "source": [
    "Ans> A generator function in Python is a function that returns a generator iterator. The yield keyword is used to return a value from a generator function and pause the function's execution. When the generator function is called again, it resumes execution from where it left off, using the saved state from the last call to yield."
   ]
  },
  {
   "cell_type": "code",
   "execution_count": 8,
   "id": "fa9878e4-8702-49af-93eb-b4127159afa5",
   "metadata": {},
   "outputs": [
    {
     "name": "stdout",
     "output_type": "stream",
     "text": [
      "Fibonacci sequence:\n",
      "0\n",
      "1\n",
      "1\n",
      "2\n",
      "3\n",
      "5\n",
      "8\n",
      "13\n"
     ]
    }
   ],
   "source": [
    "def fibonacci_sequence(limit):\n",
    "    a, b = 0, 1\n",
    "    while a < limit:\n",
    "        yield a\n",
    "        a, b = b, a + b\n",
    "\n",
    "fib = fibonacci_sequence(20)\n",
    "\n",
    "print(\"Fibonacci sequence:\")\n",
    "for number in fib:\n",
    "    print(number)"
   ]
  },
  {
   "cell_type": "markdown",
   "id": "e6aedbe0-3ebf-4d00-9149-2587367aa8bf",
   "metadata": {},
   "source": [
    "Q5. Create a generator function for prime numbers less than 1000. Use the next() method to print the \n",
    "first 20 prime numbers."
   ]
  },
  {
   "cell_type": "code",
   "execution_count": 9,
   "id": "5f40e783-3581-4ba4-b8f5-4137f3e4b976",
   "metadata": {},
   "outputs": [
    {
     "name": "stdout",
     "output_type": "stream",
     "text": [
      "The first 20 prime numbers:\n",
      "2\n",
      "3\n",
      "5\n",
      "7\n",
      "11\n",
      "13\n",
      "17\n",
      "19\n",
      "23\n",
      "29\n",
      "31\n",
      "37\n",
      "41\n",
      "43\n",
      "47\n",
      "53\n",
      "59\n",
      "61\n",
      "67\n",
      "71\n"
     ]
    }
   ],
   "source": [
    "def prime_numbers():\n",
    "    yield 2\n",
    "    primes = [2]\n",
    "    candidate = 3\n",
    "    while candidate < 1000:\n",
    "        is_prime = True\n",
    "        for prime in primes:\n",
    "            if candidate % prime == 0:\n",
    "                is_prime = False\n",
    "                break\n",
    "        if is_prime:\n",
    "            primes.append(candidate)\n",
    "            yield candidate\n",
    "        candidate += 2\n",
    "\n",
    "primes = prime_numbers()\n",
    "\n",
    "print(\"The first 20 prime numbers:\")\n",
    "for i in range(20):\n",
    "    print(next(primes))"
   ]
  },
  {
   "cell_type": "markdown",
   "id": "7a7028b3-2e50-44da-b5c5-f4170d4dbbb7",
   "metadata": {},
   "source": [
    "Q6. Write a python program to print the first 10 Fibonacci numbers using a while loop."
   ]
  },
  {
   "cell_type": "code",
   "execution_count": 1,
   "id": "b6a83673-5824-4f1b-bd4d-5477e7e718bf",
   "metadata": {},
   "outputs": [
    {
     "name": "stdout",
     "output_type": "stream",
     "text": [
      "0\n",
      "1\n",
      "1\n",
      "2\n",
      "3\n",
      "5\n",
      "8\n",
      "13\n",
      "21\n",
      "34\n"
     ]
    }
   ],
   "source": [
    "a, b = 0, 1\n",
    "count = 0\n",
    "\n",
    "while count < 10:\n",
    "    print(a)\n",
    "    a, b = b, a + b\n",
    "    count = count + 1"
   ]
  },
  {
   "cell_type": "markdown",
   "id": "0e04e0a0-993a-45af-ac34-1bab2e84114e",
   "metadata": {},
   "source": [
    "Q7. Write a List Comprehension to iterate through the given string: ‘pwskills’.\n",
    "\n",
    "Expected output: ['p', 'w', 's', 'k', 'i', 'l', 'l', 's'] "
   ]
  },
  {
   "cell_type": "code",
   "execution_count": 2,
   "id": "3af9a2ef-bd89-40ac-b7ee-ac70f6cf0bbd",
   "metadata": {},
   "outputs": [
    {
     "name": "stdout",
     "output_type": "stream",
     "text": [
      "['p', 'w', 's', 'k', 'i', 'l', 'l', 's']\n"
     ]
    }
   ],
   "source": [
    "string = 'pwskills'\n",
    "characters = [char for char in string]\n",
    "print(characters)"
   ]
  },
  {
   "cell_type": "markdown",
   "id": "f3478c94-d4cc-4a40-b8da-6fbf4048c4f5",
   "metadata": {},
   "source": [
    "Q8. Write a python program to check whether a given number is Palindrome or not using a while loop."
   ]
  },
  {
   "cell_type": "code",
   "execution_count": 10,
   "id": "5725d725-7a25-4bef-88a5-1b61b7ea1ac2",
   "metadata": {},
   "outputs": [
    {
     "name": "stdin",
     "output_type": "stream",
     "text": [
      "Enter a number:  12321\n"
     ]
    },
    {
     "name": "stdout",
     "output_type": "stream",
     "text": [
      "12321 is a palindrome.\n"
     ]
    }
   ],
   "source": [
    "def is_palindrome(num):\n",
    "    original = num\n",
    "    reverse = 0\n",
    "    while num > 0:\n",
    "        digit = num % 10\n",
    "        reverse = reverse * 10 + digit\n",
    "        num = num // 10\n",
    "    return original == reverse\n",
    "\n",
    "number = int(input(\"Enter a number: \"))\n",
    "if is_palindrome(number):\n",
    "    print(f\"{number} is a palindrome.\")\n",
    "else:\n",
    "    print(f\"{number} is not a palindrome.\")"
   ]
  },
  {
   "cell_type": "markdown",
   "id": "5a961dc6-df7a-4070-a02f-43269f4f5e17",
   "metadata": {},
   "source": [
    "Q9. Write a code to print odd numbers from 1 to 100 using list comprehension."
   ]
  },
  {
   "cell_type": "code",
   "execution_count": 7,
   "id": "5e61d8b7-57a2-4c83-aac1-fd8704246550",
   "metadata": {},
   "outputs": [
    {
     "name": "stdout",
     "output_type": "stream",
     "text": [
      "1\n",
      "3\n",
      "5\n",
      "7\n",
      "9\n",
      "11\n",
      "13\n",
      "15\n",
      "17\n",
      "19\n",
      "21\n",
      "23\n",
      "25\n",
      "27\n",
      "29\n",
      "31\n",
      "33\n",
      "35\n",
      "37\n",
      "39\n",
      "41\n",
      "43\n",
      "45\n",
      "47\n",
      "49\n",
      "51\n",
      "53\n",
      "55\n",
      "57\n",
      "59\n",
      "61\n",
      "63\n",
      "65\n",
      "67\n",
      "69\n",
      "71\n",
      "73\n",
      "75\n",
      "77\n",
      "79\n",
      "81\n",
      "83\n",
      "85\n",
      "87\n",
      "89\n",
      "91\n",
      "93\n",
      "95\n",
      "97\n",
      "99\n"
     ]
    }
   ],
   "source": [
    "list1 = [i for i in range(1,101)]\n",
    "for num in list1:\n",
    "    if num % 2 != 0:\n",
    "        print(num)\n",
    "    "
   ]
  },
  {
   "cell_type": "code",
   "execution_count": null,
   "id": "4c72c3cf-edbf-4bf5-824d-c051aab3cd1e",
   "metadata": {},
   "outputs": [],
   "source": []
  }
 ],
 "metadata": {
  "kernelspec": {
   "display_name": "Python 3 (ipykernel)",
   "language": "python",
   "name": "python3"
  },
  "language_info": {
   "codemirror_mode": {
    "name": "ipython",
    "version": 3
   },
   "file_extension": ".py",
   "mimetype": "text/x-python",
   "name": "python",
   "nbconvert_exporter": "python",
   "pygments_lexer": "ipython3",
   "version": "3.10.8"
  }
 },
 "nbformat": 4,
 "nbformat_minor": 5
}
