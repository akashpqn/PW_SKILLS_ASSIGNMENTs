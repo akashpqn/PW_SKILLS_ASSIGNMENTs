{
 "cells": [
  {
   "cell_type": "code",
   "execution_count": 1,
   "id": "2db16436-a020-4a3f-a648-385c0b7af9f0",
   "metadata": {},
   "outputs": [],
   "source": [
    "Ques1. Explain with an example each when to use a for loop and a while loop."
   ]
  },
  {
   "cell_type": "code",
   "execution_count": 1,
   "id": "c904bc4d-91aa-4d38-aa7b-a8cd24018c60",
   "metadata": {},
   "outputs": [],
   "source": [
    "A for loop is used when we have to iterate over an array or a list due to its indexing."
   ]
  },
  {
   "cell_type": "code",
   "execution_count": 2,
   "id": "7c9e8a7a-6ca1-4ed5-944b-2ce8696ea207",
   "metadata": {},
   "outputs": [
    {
     "name": "stdout",
     "output_type": "stream",
     "text": [
      "1\n",
      "2\n",
      "3\n",
      "4\n",
      "5\n",
      "6\n",
      "7\n",
      "8\n",
      "9\n"
     ]
    }
   ],
   "source": [
    "for i in range(1,10):\n",
    "    print(i)"
   ]
  },
  {
   "cell_type": "code",
   "execution_count": null,
   "id": "5946fd88-1429-46f9-af8c-565468983587",
   "metadata": {},
   "outputs": [],
   "source": [
    "A while is used when the number of iterations are not defined like writing in a file from a database connected with embeeded sql which fetch data into an cursor which further written in a file."
   ]
  },
  {
   "cell_type": "code",
   "execution_count": 3,
   "id": "bfa46b92-42be-4db5-860f-7cc6b0c48486",
   "metadata": {},
   "outputs": [
    {
     "name": "stdout",
     "output_type": "stream",
     "text": [
      "0\n",
      "1\n",
      "2\n",
      "3\n",
      "4\n",
      "5\n",
      "6\n",
      "7\n",
      "8\n",
      "9\n"
     ]
    }
   ],
   "source": [
    "i = 0\n",
    "while(i<10):\n",
    "    print(i)\n",
    "    i = i+1"
   ]
  },
  {
   "cell_type": "code",
   "execution_count": null,
   "id": "dff782b3-3098-49cf-aeb3-c797690785fa",
   "metadata": {},
   "outputs": [],
   "source": [
    "Q2. Write a python program to print the sum and product of the first 10 natural numbers using for\n",
    "and while loop."
   ]
  },
  {
   "cell_type": "code",
   "execution_count": 5,
   "id": "0b8f009e-fdc4-416f-aac0-59c0bdf42cb0",
   "metadata": {},
   "outputs": [
    {
     "name": "stdout",
     "output_type": "stream",
     "text": [
      "sum of 10 natural nos are: 55\n",
      "product of 10 natural nos are: 3628800\n"
     ]
    }
   ],
   "source": [
    "#Using For loop\n",
    "sum = 0\n",
    "product = 1\n",
    "for i in range(1,11):\n",
    "    sum = sum+i\n",
    "    product = product*i\n",
    "    \n",
    "print(\"sum of 10 natural nos are:\",sum)\n",
    "print(\"product of 10 natural nos are:\",product)    "
   ]
  },
  {
   "cell_type": "code",
   "execution_count": 6,
   "id": "83d1e55f-08b3-4014-a984-ef8971760acc",
   "metadata": {},
   "outputs": [
    {
     "name": "stdout",
     "output_type": "stream",
     "text": [
      "sum of 10 natural nos are: 55\n",
      "product of 10 natural nos are: 3628800\n"
     ]
    }
   ],
   "source": [
    "#Using while loop\n",
    "sum = 0\n",
    "product = 1\n",
    "i = 1\n",
    "while(i<11):\n",
    "    sum = sum+i\n",
    "    product = product * i\n",
    "    i = i+1\n",
    "print(\"sum of 10 natural nos are:\",sum)\n",
    "print(\"product of 10 natural nos are:\",product)     "
   ]
  },
  {
   "cell_type": "code",
   "execution_count": null,
   "id": "3aa5e79a-0186-4085-ac68-fe49d11ce612",
   "metadata": {},
   "outputs": [],
   "source": [
    "Q3. Create a python program to compute the electricity bill for a household.\n",
    "The per-unit charges in rupees are as follows: For the first 100 units, the user will be charged Rs. 4.5 per\n",
    "unit, for the next 100 units, the user will be charged Rs. 6 per unit, and for the next 100 units, the user will\n",
    "be charged Rs. 10 per unit, After 300 units and above the user will be charged Rs. 20 per unit.\n",
    "You are required to take the units of electricity consumed in a month from the user as input.\n",
    "Your program must pass this test case: when the unit of electricity consumed by the user in a month is\n",
    "310, the total electricity bill should be 2250."
   ]
  },
  {
   "cell_type": "code",
   "execution_count": 9,
   "id": "79048424-5b02-4346-8b5a-ac310fd1aa2c",
   "metadata": {},
   "outputs": [
    {
     "name": "stdin",
     "output_type": "stream",
     "text": [
      "Enter Units:  310\n"
     ]
    },
    {
     "name": "stdout",
     "output_type": "stream",
     "text": [
      "Total Electricity Bill Rs.{} 2250\n"
     ]
    }
   ],
   "source": [
    "units = int(input('Enter Units: '))\n",
    "bill = 0\n",
    "if units <= 100:\n",
    "    bill += 4.5*units\n",
    "    units -= 100\n",
    "elif units > 100 and units <= 200:\n",
    "    bill += 450\n",
    "    units -= 100\n",
    "    bill += 6*units\n",
    "elif units > 200 and units <= 300:\n",
    "    bill += 450+600\n",
    "    units -= 200\n",
    "    bill += 10*units\n",
    "elif units > 300:\n",
    "    bill += 450+600+1000\n",
    "    units -= 300\n",
    "    bill += 20*units\n",
    "print('Total Electricity Bill Rs.{}',bill)"
   ]
  },
  {
   "cell_type": "code",
   "execution_count": null,
   "id": "31a8a4e8-cab1-4c50-a5d6-35b32a738aa4",
   "metadata": {},
   "outputs": [],
   "source": [
    "Q4. Create a list of numbers from 1 to 100. Use for loop and while loop to calculate the cube of each \n",
    "number and if the cube of that number is divisible by 4 or 5 then append that number in a list and print \n",
    "that list"
   ]
  },
  {
   "cell_type": "code",
   "execution_count": 22,
   "id": "d0255185-27d9-4cf2-a775-094ec094470c",
   "metadata": {},
   "outputs": [
    {
     "ename": "TypeError",
     "evalue": "'list' object is not callable",
     "output_type": "error",
     "traceback": [
      "\u001b[0;31m---------------------------------------------------------------------------\u001b[0m",
      "\u001b[0;31mTypeError\u001b[0m                                 Traceback (most recent call last)",
      "Cell \u001b[0;32mIn[22], line 2\u001b[0m\n\u001b[1;32m      1\u001b[0m \u001b[38;5;66;03m#for loop\u001b[39;00m\n\u001b[0;32m----> 2\u001b[0m l \u001b[38;5;241m=\u001b[39m \u001b[38;5;28;43mlist\u001b[39;49m\u001b[43m(\u001b[49m\u001b[38;5;28;43mrange\u001b[39;49m\u001b[43m(\u001b[49m\u001b[38;5;241;43m1\u001b[39;49m\u001b[43m,\u001b[49m\u001b[38;5;241;43m101\u001b[39;49m\u001b[43m)\u001b[49m\u001b[43m)\u001b[49m\n\u001b[1;32m      4\u001b[0m newlist \u001b[38;5;241m=\u001b[39m[]\n\u001b[1;32m      6\u001b[0m \u001b[38;5;28;01mfor\u001b[39;00m i \u001b[38;5;129;01min\u001b[39;00m l:\n",
      "\u001b[0;31mTypeError\u001b[0m: 'list' object is not callable"
     ]
    }
   ],
   "source": [
    "#for loop\n",
    "l = list(range(1,101))\n",
    "\n",
    "newlist =[]\n",
    "\n",
    "for i in l:\n",
    "    c= i**3\n",
    "    if c %4 ==0 or c%5==0:\n",
    "        newlist.append(i)\n",
    "print(newlist)"
   ]
  },
  {
   "cell_type": "code",
   "execution_count": 20,
   "id": "286a9ac6-c986-40f3-a4f6-3f539d90eaaa",
   "metadata": {},
   "outputs": [
    {
     "ename": "NameError",
     "evalue": "name 'l' is not defined",
     "output_type": "error",
     "traceback": [
      "\u001b[0;31m---------------------------------------------------------------------------\u001b[0m",
      "\u001b[0;31mNameError\u001b[0m                                 Traceback (most recent call last)",
      "Cell \u001b[0;32mIn[20], line 4\u001b[0m\n\u001b[1;32m      2\u001b[0m newlist2 \u001b[38;5;241m=\u001b[39m[]\n\u001b[1;32m      3\u001b[0m i \u001b[38;5;241m=\u001b[39m\u001b[38;5;241m1\u001b[39m\n\u001b[0;32m----> 4\u001b[0m \u001b[38;5;28;01mwhile\u001b[39;00m i \u001b[38;5;241m<\u001b[39m\u001b[38;5;241m=\u001b[39m \u001b[38;5;28mlen\u001b[39m(\u001b[43ml\u001b[49m):\n\u001b[1;32m      5\u001b[0m     c \u001b[38;5;241m=\u001b[39m i\u001b[38;5;241m*\u001b[39m\u001b[38;5;241m*\u001b[39m\u001b[38;5;241m3\u001b[39m\n\u001b[1;32m      6\u001b[0m     \u001b[38;5;28;01mif\u001b[39;00m c\u001b[38;5;241m%\u001b[39m\u001b[38;5;241m4\u001b[39m \u001b[38;5;241m==\u001b[39m\u001b[38;5;241m0\u001b[39m \u001b[38;5;129;01mor\u001b[39;00m c\u001b[38;5;241m%\u001b[39m\u001b[38;5;241m5\u001b[39m \u001b[38;5;241m==\u001b[39m\u001b[38;5;241m0\u001b[39m:\n",
      "\u001b[0;31mNameError\u001b[0m: name 'l' is not defined"
     ]
    }
   ],
   "source": [
    "#while loop\n",
    "newlist2 =[]\n",
    "i =1\n",
    "while i <= len(l):\n",
    "    c = i**3\n",
    "    if c%4 ==0 or c%5 ==0:\n",
    "        newlist2.append(i)\n",
    "    i+=1\n",
    "print(newlist2)"
   ]
  },
  {
   "cell_type": "code",
   "execution_count": null,
   "id": "35f4b917-fa7b-4014-891f-c94bb5eef7eb",
   "metadata": {},
   "outputs": [],
   "source": [
    "Q5.  Write a program to filter count vowels in the below-given string.\n",
    "string = \"I want to become a data scientist\""
   ]
  },
  {
   "cell_type": "code",
   "execution_count": 17,
   "id": "5dc61c1b-685f-4b16-95cd-5e9082b0359e",
   "metadata": {},
   "outputs": [
    {
     "name": "stdin",
     "output_type": "stream",
     "text": [
      "Enter the input \"I want to become a data scientist\"\n"
     ]
    },
    {
     "name": "stdout",
     "output_type": "stream",
     "text": [
      "12\n"
     ]
    }
   ],
   "source": [
    "sts = str(input(\"Enter the input\"))\n",
    "vowels = 'aeiouAEIOU'\n",
    "count=0\n",
    "for char in sts:\n",
    "    if char in vowels:\n",
    "       count+=1\n",
    "print(count)     "
   ]
  },
  {
   "cell_type": "code",
   "execution_count": null,
   "id": "1021c6b9-55f0-478b-9dfd-8e4a19a9402d",
   "metadata": {},
   "outputs": [],
   "source": []
  }
 ],
 "metadata": {
  "kernelspec": {
   "display_name": "Python 3 (ipykernel)",
   "language": "python",
   "name": "python3"
  },
  "language_info": {
   "codemirror_mode": {
    "name": "ipython",
    "version": 3
   },
   "file_extension": ".py",
   "mimetype": "text/x-python",
   "name": "python",
   "nbconvert_exporter": "python",
   "pygments_lexer": "ipython3",
   "version": "3.10.8"
  }
 },
 "nbformat": 4,
 "nbformat_minor": 5
}
