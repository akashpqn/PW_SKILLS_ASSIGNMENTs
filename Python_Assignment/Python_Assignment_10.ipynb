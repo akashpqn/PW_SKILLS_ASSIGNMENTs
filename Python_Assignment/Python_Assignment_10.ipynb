{
 "cells": [
  {
   "cell_type": "markdown",
   "id": "af8e5d2a-9d14-4aaa-b9af-cf1631d1ebc9",
   "metadata": {},
   "source": [
    "## Q1. Create a vehicle class with an init method having instance variables as name_of_vehicle, max_speed and average_of_vehicle."
   ]
  },
  {
   "cell_type": "code",
   "execution_count": 2,
   "id": "bac76258-6594-48da-bb5b-36ecafcbd810",
   "metadata": {},
   "outputs": [
    {
     "name": "stdout",
     "output_type": "stream",
     "text": [
      "Car\n",
      "200\n",
      "20\n"
     ]
    }
   ],
   "source": [
    "class Vehicle:\n",
    "    def __init__(self,name_of_vehicle,max_speed,average_of_vehicle):\n",
    "        self.name_of_vehicle = name_of_vehicle\n",
    "        self.max_speed = max_speed\n",
    "        self.average_of_vehicle = average_of_vehicle\n",
    "\n",
    "        \n",
    "car = Vehicle(\"Car\", 200, 20)\n",
    "print(car.name_of_vehicle)  \n",
    "print(car.max_speed)  \n",
    "print(car.average_of_vehicle)        "
   ]
  },
  {
   "cell_type": "markdown",
   "id": "0da835f3-6d17-4bdc-b2c1-fbbb3dcc85ab",
   "metadata": {},
   "source": [
    "## Q2. Create a child class car from the vehicle class created in Que 1, which will inherit the vehicle class.Create a method named seating_capacity which takes capacity as an argument and returns the name of the vehicle and its seating capacity."
   ]
  },
  {
   "cell_type": "code",
   "execution_count": 3,
   "id": "7347d625-70be-4382-89ff-52848bb6f370",
   "metadata": {},
   "outputs": [
    {
     "name": "stdout",
     "output_type": "stream",
     "text": [
      "The name of vehicle is My Car it has seating capacity of 5.\n"
     ]
    }
   ],
   "source": [
    "class Car(Vehicle):\n",
    "    def seating_capacity(self,capacity):\n",
    "        self.capacity = capacity\n",
    "        return f\"The name of vehicle is {self.name_of_vehicle} it has seating capacity of {self.capacity}.\"\n",
    "    \n",
    "my_car = Car(\"My Car\", 150, 15)\n",
    "print(my_car.seating_capacity(5))    "
   ]
  },
  {
   "cell_type": "markdown",
   "id": "1faafe49-94b0-4036-a707-435f5445b05d",
   "metadata": {},
   "source": [
    "## Q.3> What is multiple inheritance? Write a python code to demonstrate multiple inheritance."
   ]
  },
  {
   "cell_type": "code",
   "execution_count": 5,
   "id": "689d0598-980d-4a38-bc67-cf4ba1493de1",
   "metadata": {},
   "outputs": [
    {
     "name": "stdout",
     "output_type": "stream",
     "text": [
      "Engine started.\n",
      "None\n",
      "Car is driving.\n"
     ]
    }
   ],
   "source": [
    "class Engine:\n",
    "    def start(self):\n",
    "        return \"Engine started.\"\n",
    "class Fuel_System:\n",
    "    def fill_fuel(self,fuel_amount):\n",
    "        self.fuel_amount = fuel_amount\n",
    "class Car(Engine, Fuel_System):\n",
    "    def drive(self):\n",
    "        return \"Car is driving.\"\n",
    "\n",
    "    \n",
    "my_car = Car()\n",
    "print(my_car.start())  \n",
    "print(my_car.fill_fuel(50)) \n",
    "print(my_car.drive())"
   ]
  },
  {
   "cell_type": "markdown",
   "id": "656e56ef-661a-4313-8854-067abf375a75",
   "metadata": {},
   "source": [
    "# Q4. What are getter and setter in python? Create a class and create a getter and a setter method in this class."
   ]
  },
  {
   "cell_type": "markdown",
   "id": "3955c223-c62d-405f-870b-fc0277fdf8bb",
   "metadata": {},
   "source": [
    "Ans>    Getters and setters are methods in object-oriented programming that allow you to control access to the \n",
    "        attributes of an object. A getter method is used to retrieve the value of an attribute, while a setter \n",
    "        method is used to set the value of an attribute."
   ]
  },
  {
   "cell_type": "code",
   "execution_count": 8,
   "id": "1970e43e-1f19-4d03-8731-691dff97d8de",
   "metadata": {},
   "outputs": [
    {
     "name": "stdout",
     "output_type": "stream",
     "text": [
      "John Doe\n",
      "Jane Doe\n",
      "30\n",
      "35\n"
     ]
    }
   ],
   "source": [
    "class Person:\n",
    "    def __init__(self,name,age):\n",
    "        self.name = name\n",
    "        self.age = age\n",
    "        \n",
    "    @property\n",
    "    def name(self):\n",
    "        return self._name\n",
    "    \n",
    "    @name.setter\n",
    "    def name(self,value):\n",
    "        if not isinstance(value,str):\n",
    "            raise TypeError(\"Name must be a string.\")\n",
    "        self._name = value\n",
    "        \n",
    "    @property\n",
    "    def age(self):\n",
    "        return self._age\n",
    "\n",
    "    @age.setter\n",
    "    def age(self, value):\n",
    "        if not isinstance(value, int):\n",
    "            raise TypeError(\"Age must be an integer.\")\n",
    "        self._age = value\n",
    "\n",
    "        \n",
    "person = Person(\"John Doe\", 30)\n",
    "print(person.name)  \n",
    "person.name = \"Jane Doe\"\n",
    "print(person.name)  \n",
    "print(person.age)  \n",
    "person.age = 35\n",
    "print(person.age)        \n",
    "    "
   ]
  },
  {
   "cell_type": "markdown",
   "id": "14f75350-3acf-48f2-be3f-7251ce0e7dda",
   "metadata": {},
   "source": [
    "# Q5.What is method overriding in python? Write a python code to demonstrate method overriding."
   ]
  },
  {
   "cell_type": "markdown",
   "id": "fb16c19f-4eee-4a6b-8c48-e5f6580d3911",
   "metadata": {},
   "source": [
    "Ans > In Python, method overriding occurs when a subclass defines a method that is already defined in its superclass, thereby providing a different implementation for that method. The overridden method in the subclass is called instead of the method in the superclass when invoked on an object of the subclass. This allows the subclass to modify the behavior of the inherited method according to its specific requirements."
   ]
  },
  {
   "cell_type": "code",
   "execution_count": 6,
   "id": "08db7f37-8f9d-4752-be0a-92e5917e264a",
   "metadata": {},
   "outputs": [
    {
     "name": "stdout",
     "output_type": "stream",
     "text": [
      "The animal makes a sound.\n",
      "Meow!\n",
      "Woof!\n"
     ]
    }
   ],
   "source": [
    "class Animal:\n",
    "    def speak(self):\n",
    "        print(\"The animal makes a sound.\")\n",
    "\n",
    "class Cat(Animal):\n",
    "    def speak(self):\n",
    "        print(\"Meow!\")\n",
    "\n",
    "class Dog(Animal):\n",
    "    def speak(self):\n",
    "        print(\"Woof!\")\n",
    "\n",
    "# Creating instances of the classes\n",
    "animal = Animal()\n",
    "cat = Cat()\n",
    "dog = Dog()\n",
    "\n",
    "# Calling the overridden method\n",
    "animal.speak()  # Output: The animal makes a sound.\n",
    "cat.speak()     # Output: Meow!\n",
    "dog.speak()     # Output: Woof!\n"
   ]
  },
  {
   "cell_type": "code",
   "execution_count": null,
   "id": "d2c90e5e-291f-4a61-8e77-0d6feb716cf9",
   "metadata": {},
   "outputs": [],
   "source": []
  }
 ],
 "metadata": {
  "kernelspec": {
   "display_name": "Python 3 (ipykernel)",
   "language": "python",
   "name": "python3"
  },
  "language_info": {
   "codemirror_mode": {
    "name": "ipython",
    "version": 3
   },
   "file_extension": ".py",
   "mimetype": "text/x-python",
   "name": "python",
   "nbconvert_exporter": "python",
   "pygments_lexer": "ipython3",
   "version": "3.10.8"
  }
 },
 "nbformat": 4,
 "nbformat_minor": 5
}
