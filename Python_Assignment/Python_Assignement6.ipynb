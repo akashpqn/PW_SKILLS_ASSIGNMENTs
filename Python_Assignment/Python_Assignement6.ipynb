{
 "cells": [
  {
   "cell_type": "markdown",
   "id": "717eea56-b8ee-4af6-993f-925a11cd9ade",
   "metadata": {},
   "source": [
    "Q1. Explain Class and Object with respect to Object-Oriented Programming. Give a suitable example."
   ]
  },
  {
   "cell_type": "markdown",
   "id": "45bcf993-d672-4fea-97d3-52a0646f8d4a",
   "metadata": {},
   "source": [
    "A class is a template for creating objects providing initial values for state , and implementations of behavior.\n",
    "While objects are instances of class by which different operations can be done.An object is an instance of a class, created at runtime. Each object has its own unique set of attributes and methods that operate on that data."
   ]
  },
  {
   "cell_type": "code",
   "execution_count": 5,
   "id": "6682f713-041d-4e5a-96a8-72bdb402b18c",
   "metadata": {},
   "outputs": [
    {
     "name": "stdout",
     "output_type": "stream",
     "text": [
      "Samsung\n",
      "dark_purple\n",
      "2022\n",
      "230\n"
     ]
    }
   ],
   "source": [
    "#For examples\n",
    "class refridgerator():\n",
    "    def __init__(self,name,colour,model,capacity):\n",
    "        \n",
    "        self.name = name\n",
    "        self.colour = colour\n",
    "        self.model = model\n",
    "        self.capacity = capacity\n",
    "my_fridge=refridgerator('Samsung','dark_purple',2022,230)\n",
    "print(my_fridge.name)\n",
    "print(my_fridge.colour)\n",
    "print(my_fridge.model)\n",
    "print(my_fridge.capacity)\n",
    "    \n",
    "    "
   ]
  },
  {
   "cell_type": "markdown",
   "id": "087e306b-98bc-40c4-a24b-16c27f6e5222",
   "metadata": {},
   "source": [
    "Q2. Name the four pillars of OOPs."
   ]
  },
  {
   "cell_type": "markdown",
   "id": "aa02a7c6-72f8-46bb-bd48-5378639f347f",
   "metadata": {},
   "source": [
    "1.Encapsulation\n",
    "2.Inheritance\n",
    "3.Polymorphism\n",
    "4.Abstraction"
   ]
  },
  {
   "cell_type": "markdown",
   "id": "13b592ae-5ea5-400a-a5c0-20fa151add5b",
   "metadata": {},
   "source": [
    "Q3. Explain why the __init__() function is used. Give a suitable example."
   ]
  },
  {
   "cell_type": "markdown",
   "id": "bcea0f6e-e5d7-4e9a-8225-fa0cbbc5c493",
   "metadata": {},
   "source": [
    "This is method in python.This method is called automatically whenever a new object of a class is created. This type of function is also known as the constructor function. A constructor function is a function that is called every time a new class object is created."
   ]
  },
  {
   "cell_type": "code",
   "execution_count": 8,
   "id": "6a23709f-c03f-41e3-9149-1b4792de7a51",
   "metadata": {},
   "outputs": [
    {
     "name": "stdout",
     "output_type": "stream",
     "text": [
      "Samsung\n",
      "dark_purple\n",
      "2022\n",
      "230\n"
     ]
    }
   ],
   "source": [
    "#For examples\n",
    "class refridgerator():\n",
    "    def __init__(self,name,colour,model,capacity):\n",
    "        \n",
    "        self.name = name\n",
    "        self.colour = colour\n",
    "        self.model = model\n",
    "        self.capacity = capacity\n",
    "my_fridge=refridgerator('Samsung','dark_purple',2022,230)\n",
    "print(my_fridge.name)\n",
    "print(my_fridge.colour)\n",
    "print(my_fridge.model)\n",
    "print(my_fridge.capacity)\n",
    "    "
   ]
  },
  {
   "cell_type": "markdown",
   "id": "c4dd0874-0024-4613-aa90-3010f3e49565",
   "metadata": {},
   "source": [
    "Q4. Why self is used in OOPs?"
   ]
  },
  {
   "cell_type": "markdown",
   "id": "4fe46c04-618b-4fed-96dd-5129cac5b2ed",
   "metadata": {},
   "source": [
    "The self keyword is used to represent an instance (object) of the given class."
   ]
  },
  {
   "cell_type": "markdown",
   "id": "ac75d658-106a-40e1-b019-fe5d883f3e40",
   "metadata": {},
   "source": [
    "Q5. What is inheritance? Give an example for each type of inheritance."
   ]
  },
  {
   "cell_type": "markdown",
   "id": "9822a981-ccb4-44e9-afc3-6872dc880093",
   "metadata": {},
   "source": [
    "Inheritance is a mechanism in object-oriented programming that allows a new class to be derived from an existing class, inheriting its attributes and behavior. This is useful for creating new classes that are related to existing classes and share some of their functionality."
   ]
  },
  {
   "cell_type": "markdown",
   "id": "7a834469-0670-49aa-a823-f4fb7cf9a36c",
   "metadata": {},
   "source": [
    "Types of Inheritance\n",
    "\n",
    "1.Single Inheritance\n",
    "\n",
    "Single inheritance enables a derived class to inherit properties from a single parent class, thus enabling code reusability and the addition of new features to existing code."
   ]
  },
  {
   "cell_type": "code",
   "execution_count": 9,
   "id": "3083fc6a-e2bf-4a82-92e2-f365b8165705",
   "metadata": {},
   "outputs": [
    {
     "name": "stdout",
     "output_type": "stream",
     "text": [
      "This function is in parent class.\n",
      "This function is in child class.\n"
     ]
    }
   ],
   "source": [
    "\n",
    "#example single inheritance\n",
    "class Parent:\n",
    "    def func1(self):\n",
    "        print(\"This function is in parent class.\")\n",
    "class Child(Parent):\n",
    "    def func2(self):\n",
    "        print(\"This function is in child class.\")\n",
    "\n",
    "object = Child()\n",
    "object.func1()\n",
    "object.func2()"
   ]
  },
  {
   "cell_type": "markdown",
   "id": "664371f7-219e-48fb-b43b-bdf369cc35d9",
   "metadata": {},
   "source": [
    "2.Multiple Inheritance:\n",
    "When a class can be derived from more than one base class this type of inheritance is called multiple inheritances. In multiple inheritances, all the features of the base classes are inherited into the derived class."
   ]
  },
  {
   "cell_type": "code",
   "execution_count": 16,
   "id": "37c9af18-d662-43f8-9998-d0f822f8a233",
   "metadata": {},
   "outputs": [
    {
     "name": "stdout",
     "output_type": "stream",
     "text": [
      "Father name : Akash\n",
      "Mother name : some girl\n"
     ]
    }
   ],
   "source": [
    "class Mother:\n",
    "    mother = ''\n",
    "    def mmother(self):\n",
    "        print(self.mother)\n",
    "class Father:\n",
    "    father = ''\n",
    "    def ffather(self):\n",
    "        print(self.father)\n",
    "class child(Mother,Father):\n",
    "    def parents(self):\n",
    "        print('Father name :',self.father)\n",
    "        print('Mother name :',self.mother)\n",
    "c1 = child()\n",
    "c1.mother = 'some girl'\n",
    "c1.father = 'Akash'\n",
    "c1.parents()"
   ]
  },
  {
   "cell_type": "markdown",
   "id": "eafc00ca-3457-42da-92a7-d96998c10be6",
   "metadata": {},
   "source": [
    "3.Multilevel Inheritance :\n",
    "In multilevel inheritance, features of the base class and the derived class are further inherited into the new derived class. This is similar to a relationship representing a child and a grandfather."
   ]
  },
  {
   "cell_type": "code",
   "execution_count": 17,
   "id": "5f1e6b35-a9ba-476a-8bd8-c2b266d53bf9",
   "metadata": {},
   "outputs": [
    {
     "name": "stdout",
     "output_type": "stream",
     "text": [
      "Lal mani\n",
      "Grandfather name : Lal mani\n",
      "Father name : Rampal\n",
      "Son name : Prince\n"
     ]
    }
   ],
   "source": [
    "class Grandfather:\n",
    " \n",
    "    def __init__(self, grandfathername):\n",
    "        self.grandfathername = grandfathername\n",
    " \n",
    "\n",
    "class Father(Grandfather):\n",
    "    def __init__(self, fathername, grandfathername):\n",
    "        self.fathername = fathername\n",
    " \n",
    "       \n",
    "        Grandfather.__init__(self, grandfathername)\n",
    " \n",
    "\n",
    " \n",
    " \n",
    "class Son(Father):\n",
    "    def __init__(self, sonname, fathername, grandfathername):\n",
    "        self.sonname = sonname\n",
    " \n",
    "\n",
    "        Father.__init__(self, fathername, grandfathername)\n",
    " \n",
    "    def print_name(self):\n",
    "        print('Grandfather name :', self.grandfathername)\n",
    "        print(\"Father name :\", self.fathername)\n",
    "        print(\"Son name :\", self.sonname)\n",
    " \n",
    " \n",
    "#  Driver code\n",
    "s1 = Son('Prince', 'Rampal', 'Lal mani')\n",
    "print(s1.grandfathername)\n",
    "s1.print_name()\n",
    "     "
   ]
  },
  {
   "cell_type": "markdown",
   "id": "a0936de6-52c9-4386-9916-33487d60003e",
   "metadata": {},
   "source": [
    "4.Hierarchical Inheritance:\n",
    "When more than one derived class are created from a single base this type of inheritance is called hierarchical inheritance. In this program, we have a parent (base) class and two child (derived) classes."
   ]
  },
  {
   "cell_type": "code",
   "execution_count": 18,
   "id": "a3d66db6-19b4-4158-bec3-30a274cb6000",
   "metadata": {},
   "outputs": [
    {
     "name": "stdout",
     "output_type": "stream",
     "text": [
      "This function is in parent class.\n",
      "This function is in child 1.\n",
      "This function is in parent class.\n",
      "This function is in child 2.\n"
     ]
    }
   ],
   "source": [
    "class Parent:\n",
    "    def func1(self):\n",
    "        print(\"This function is in parent class.\")\n",
    " \n",
    "# Derived class1\n",
    " \n",
    " \n",
    "class Child1(Parent):\n",
    "    def func2(self):\n",
    "        print(\"This function is in child 1.\")\n",
    " \n",
    "# Derivied class2\n",
    " \n",
    " \n",
    "class Child2(Parent):\n",
    "    def func3(self):\n",
    "        print(\"This function is in child 2.\")\n",
    " \n",
    " \n",
    "# Driver's code\n",
    "object1 = Child1()\n",
    "object2 = Child2()\n",
    "object1.func1()\n",
    "object1.func2()\n",
    "object2.func1()\n",
    "object2.func3()\n",
    "     "
   ]
  },
  {
   "cell_type": "markdown",
   "id": "26f7e0c0-cc70-4e75-999b-fee15a0b4e47",
   "metadata": {},
   "source": [
    "5.Hybrid Inheritance:\n",
    "Inheritance consisting of multiple types of inheritance is called hybrid inheritance."
   ]
  },
  {
   "cell_type": "code",
   "execution_count": 19,
   "id": "6f40ddff-5b19-4b4f-82aa-d2c99ef2ef34",
   "metadata": {},
   "outputs": [
    {
     "name": "stdout",
     "output_type": "stream",
     "text": [
      "This function is in school.\n",
      "This function is in student 1. \n"
     ]
    }
   ],
   "source": [
    "class School:\n",
    "    def func1(self):\n",
    "        print(\"This function is in school.\")\n",
    " \n",
    " \n",
    "class Student1(School):\n",
    "    def func2(self):\n",
    "        print(\"This function is in student 1. \")\n",
    " \n",
    " \n",
    "class Student2(School):\n",
    "    def func3(self):\n",
    "        print(\"This function is in student 2.\")\n",
    " \n",
    " \n",
    "class Student3(Student1, School):\n",
    "    def func4(self):\n",
    "        print(\"This function is in student 3.\")\n",
    " \n",
    " \n",
    "# Driver's code\n",
    "object = Student3()\n",
    "object.func1()\n",
    "object.func2()"
   ]
  },
  {
   "cell_type": "code",
   "execution_count": null,
   "id": "ccc495a6-da2d-4d2e-88f4-6b44fd425a84",
   "metadata": {},
   "outputs": [],
   "source": []
  }
 ],
 "metadata": {
  "kernelspec": {
   "display_name": "Python 3 (ipykernel)",
   "language": "python",
   "name": "python3"
  },
  "language_info": {
   "codemirror_mode": {
    "name": "ipython",
    "version": 3
   },
   "file_extension": ".py",
   "mimetype": "text/x-python",
   "name": "python",
   "nbconvert_exporter": "python",
   "pygments_lexer": "ipython3",
   "version": "3.10.8"
  }
 },
 "nbformat": 4,
 "nbformat_minor": 5
}
