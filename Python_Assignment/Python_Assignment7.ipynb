{
  "nbformat": 4,
  "nbformat_minor": 0,
  "metadata": {
    "colab": {
      "provenance": []
    },
    "kernelspec": {
      "name": "python3",
      "display_name": "Python 3"
    },
    "language_info": {
      "name": "python"
    }
  },
  "cells": [
    {
      "cell_type": "markdown",
      "source": [
        "Q1. Create a function which will take a list as an argument and return the product of all the numbers \n",
        "after creating a flat list.\n",
        "\n",
        "Use the below-given list as an argument for your function.\n",
        "\n",
        "\n",
        "list1 = [1,2,3,4, [44,55,66, True], False, (34,56,78,89,34), {1,2,3,3,2,1}, {1:34, \"key2\": [55, 67, 78, 89], 4: (45, \n",
        "22, 61, 34)}, [56, 'data science'], 'Machine Learning']"
      ],
      "metadata": {
        "id": "aelpRcmilUCY"
      }
    },
    {
      "cell_type": "code",
      "source": [
        "def get_product(List):\n",
        "\n",
        "  flat_list1 = []\n",
        "  flat_list2 = []\n",
        "  flat_list3 = []\n",
        "  flat_list4 = []\n",
        "  for item in list1:\n",
        "    if type(item) == int:\n",
        "        flat_list1.append(item)\n",
        "    elif type(item) in (list, tuple, set, dict):\n",
        "        flat_list2.append(item)\n",
        "  for item1 in flat_list2:\n",
        "    if type(item1) in (list, tuple, set, dict):\n",
        "      for subject in item1:\n",
        "        if type(subject) == int:     \n",
        "          flat_list3.append(subject)\n",
        "\n",
        "  #print(flat_list1)\n",
        "  #print(flat_list2)\n",
        "  #print(flat_list3)\n",
        "  flat_list4 = flat_list1 + flat_list3\n",
        "  #print(flat_list4)\n",
        "\n",
        "  product = 1\n",
        "  for num in flat_list4:\n",
        "    product *= num\n",
        "  return product"
      ],
      "metadata": {
        "id": "Mv0oPUltH0QH"
      },
      "execution_count": 63,
      "outputs": []
    },
    {
      "cell_type": "code",
      "source": [
        "get_product(list1)"
      ],
      "metadata": {
        "colab": {
          "base_uri": "https://localhost:8080/"
        },
        "id": "OMd1LzkyKaxR",
        "outputId": "8df3fa72-b00a-4372-b299-713f0f91f1d6"
      },
      "execution_count": 64,
      "outputs": [
        {
          "output_type": "execute_result",
          "data": {
            "text/plain": [
              "2315262738624675840"
            ]
          },
          "metadata": {},
          "execution_count": 64
        }
      ]
    },
    {
      "cell_type": "markdown",
      "source": [
        "Q2. Write a python program for encrypting a message sent to you by your friend. The logic of encryption \n",
        "should be such that, for a the output should be z. For b, the output should be y. For c, the output should \n",
        "be x respectively. Also, the whitespace should be replaced with a dollar sign. Keep the punctuation \n",
        "marks unchanged.\n",
        "\n",
        "\n",
        "Input Sentence: I want to become a Data Scientist.\n",
        "\n",
        "\n",
        "Encrypt the above input sentence using the program you just created."
      ],
      "metadata": {
        "id": "vQ6vWSdGUGAD"
      }
    },
    {
      "cell_type": "code",
      "source": [
        "def encrypt(sentence):\n",
        "  sentence = sentence.lower()\n",
        "  encryption = {}\n",
        "  for i in range(26):\n",
        "    encryption[chr(i + ord('a'))] = chr((25 - i) + ord('a'))\n",
        "  encryption[' '] = '$'\n",
        "  encrypted_sentence = ''\n",
        "  for char in sentence:\n",
        "    if char in encryption:\n",
        "      encrypted_sentence += encryption[char]\n",
        "    else:\n",
        "      encrypted_sentence += char\n",
        "  return encrypted_sentence\n",
        "\n",
        "sentence = \"I want to become a Data Scientist.\"\n",
        "encrypted_sentence = encrypt(sentence)\n",
        "print(\"Encrypted sentence:\", encrypted_sentence)"
      ],
      "metadata": {
        "colab": {
          "base_uri": "https://localhost:8080/"
        },
        "id": "IavR6QqhSsem",
        "outputId": "1d790e9b-fc41-407e-d8fc-bef54390a0cb"
      },
      "execution_count": 65,
      "outputs": [
        {
          "output_type": "stream",
          "name": "stdout",
          "text": [
            "Encrypted sentence: r$dzmg$gl$yvxlnv$z$wzgz$hxrvmgrhg.\n"
          ]
        }
      ]
    },
    {
      "cell_type": "code",
      "source": [],
      "metadata": {
        "id": "rZc3q6PCUSuA"
      },
      "execution_count": null,
      "outputs": []
    }
  ]
}