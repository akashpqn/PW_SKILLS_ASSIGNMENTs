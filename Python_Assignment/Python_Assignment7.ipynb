{
 "cells": [
  {
   "cell_type": "markdown",
   "metadata": {
    "id": "aelpRcmilUCY"
   },
   "source": [
    "Q1. Create a function which will take a list as an argument and return the product of all the numbers \n",
    "after creating a flat list.\n",
    "\n",
    "Use the below-given list as an argument for your function.\n",
    "\n",
    "\n",
    "list1 = [1,2,3,4, [44,55,66, True], False, (34,56,78,89,34), {1,2,3,3,2,1}, {1:34, \"key2\": [55, 67, 78, 89], 4: (45, \n",
    "22, 61, 34)}, [56, 'data science'], 'Machine Learning']"
   ]
  },
  {
   "cell_type": "code",
   "execution_count": 7,
   "metadata": {},
   "outputs": [],
   "source": [
    "list1 = [1,2,3,4, [44,55,66, True], False, (34,56,78,89,34), {1,2,3,3,2,1}, {1:34, \"key2\": [55, 67, 78, 89], 4: (45, 22, 61, 34)}, [56, 'data science'], 'Machine Learning']"
   ]
  },
  {
   "cell_type": "code",
   "execution_count": 73,
   "metadata": {
    "id": "Mv0oPUltH0QH"
   },
   "outputs": [],
   "source": [
    "def get_product(List):\n",
    "\n",
    "  flat_list1 = []\n",
    "  flat_list2 = []\n",
    "  flat_list3 = []\n",
    "  flat_list4 = []\n",
    "  key_list1 = []\n",
    "  flat_key_list1 = []\n",
    "  flat_key_list2 = []\n",
    "  flat_key_list3 = []  \n",
    "  for item in list1:\n",
    "    if type(item) == int:\n",
    "        flat_list1.append(item)\n",
    "    elif type(item) in (list, tuple, set):\n",
    "        flat_list2.append(item)\n",
    "    elif type(item) == dict:\n",
    "        key_list1.append(item)\n",
    "  for item1 in flat_list2:\n",
    "    if type(item1) in (list, tuple, set):\n",
    "      for subject in item1:\n",
    "        if type(subject) == int:     \n",
    "          flat_list3.append(subject)\n",
    "  for item2 in key_list1:\n",
    "    if type(item2) == dict:\n",
    "        D_key_list = list(item2.keys())\n",
    "        D_value_list = list(item2.values())\n",
    "  print(D_key_list)\n",
    "  print(D_value_list) \n",
    "  print(flat_list1)\n",
    "  print(flat_list2)\n",
    "  print(flat_list3)\n",
    "  print(key_list1)\n",
    "  key_list = D_key_list + D_value_list\n",
    "  print(key_list)\n",
    "  for item3 in key_list:\n",
    "    if type(item3) == int:\n",
    "        flat_key_list1.append(item3)\n",
    "    elif type(item3) in (list, tuple):\n",
    "        flat_key_list2.append(item3)\n",
    "  print(flat_key_list2)\n",
    "  for item4 in flat_key_list2:\n",
    "    if type(item4) in (list, tuple):\n",
    "      for subject1 in item4:\n",
    "        if type(subject1) == int:     \n",
    "          flat_key_list3.append(subject1)\n",
    "  print(flat_key_list3)      \n",
    "  flate_dict_list = flat_key_list1 +  flat_key_list3     \n",
    "  flat_list4 = flat_list1 + flat_list3 + flate_dict_list\n",
    "  print(flate_dict_list)  \n",
    "  print(flat_list4)\n",
    "\n",
    "  product = 1\n",
    "  for num in flat_list4:\n",
    "    product *= num\n",
    "  return product"
   ]
  },
  {
   "cell_type": "code",
   "execution_count": 74,
   "metadata": {
    "colab": {
     "base_uri": "https://localhost:8080/"
    },
    "id": "OMd1LzkyKaxR",
    "outputId": "8df3fa72-b00a-4372-b299-713f0f91f1d6"
   },
   "outputs": [
    {
     "name": "stdout",
     "output_type": "stream",
     "text": [
      "[1, 'key2', 4]\n",
      "[34, [55, 67, 78, 89], (45, 22, 61, 34)]\n",
      "[1, 2, 3, 4]\n",
      "[[44, 55, 66, True], (34, 56, 78, 89, 34), {1, 2, 3}, [56, 'data science']]\n",
      "[44, 55, 66, 34, 56, 78, 89, 34, 1, 2, 3, 56]\n",
      "[{1: 34, 'key2': [55, 67, 78, 89], 4: (45, 22, 61, 34)}]\n",
      "[1, 'key2', 4, 34, [55, 67, 78, 89], (45, 22, 61, 34)]\n",
      "[[55, 67, 78, 89], (45, 22, 61, 34)]\n",
      "[55, 67, 78, 89, 45, 22, 61, 34]\n",
      "[1, 4, 34, 55, 67, 78, 89, 45, 22, 61, 34]\n",
      "[1, 2, 3, 4, 44, 55, 66, 34, 56, 78, 89, 34, 1, 2, 3, 56, 1, 4, 34, 55, 67, 78, 89, 45, 22, 61, 34]\n"
     ]
    },
    {
     "data": {
      "text/plain": [
       "4134711838987085478833841242112000"
      ]
     },
     "execution_count": 74,
     "metadata": {},
     "output_type": "execute_result"
    }
   ],
   "source": [
    "get_product(list1)"
   ]
  },
  {
   "cell_type": "markdown",
   "metadata": {
    "id": "vQ6vWSdGUGAD"
   },
   "source": [
    "Q2. Write a python program for encrypting a message sent to you by your friend. The logic of encryption \n",
    "should be such that, for a the output should be z. For b, the output should be y. For c, the output should \n",
    "be x respectively. Also, the whitespace should be replaced with a dollar sign. Keep the punctuation \n",
    "marks unchanged.\n",
    "\n",
    "\n",
    "Input Sentence: I want to become a Data Scientist.\n",
    "\n",
    "\n",
    "Encrypt the above input sentence using the program you just created."
   ]
  },
  {
   "cell_type": "code",
   "execution_count": 65,
   "metadata": {
    "colab": {
     "base_uri": "https://localhost:8080/"
    },
    "id": "IavR6QqhSsem",
    "outputId": "1d790e9b-fc41-407e-d8fc-bef54390a0cb"
   },
   "outputs": [
    {
     "name": "stdout",
     "output_type": "stream",
     "text": [
      "Encrypted sentence: r$dzmg$gl$yvxlnv$z$wzgz$hxrvmgrhg.\n"
     ]
    }
   ],
   "source": [
    "def encrypt(sentence):\n",
    "  sentence = sentence.lower()\n",
    "  encryption = {}\n",
    "  for i in range(26):\n",
    "    encryption[chr(i + ord('a'))] = chr((25 - i) + ord('a'))\n",
    "  encryption[' '] = '$'\n",
    "  encrypted_sentence = ''\n",
    "  for char in sentence:\n",
    "    if char in encryption:\n",
    "      encrypted_sentence += encryption[char]\n",
    "    else:\n",
    "      encrypted_sentence += char\n",
    "  return encrypted_sentence\n",
    "\n",
    "sentence = \"I want to become a Data Scientist.\"\n",
    "encrypted_sentence = encrypt(sentence)\n",
    "print(\"Encrypted sentence:\", encrypted_sentence)"
   ]
  },
  {
   "cell_type": "code",
   "execution_count": 1,
   "metadata": {
    "id": "rZc3q6PCUSuA"
   },
   "outputs": [
    {
     "data": {
      "text/plain": [
       "{1: 34, 'key2': [55, 67, 78, 89], 4: (45, 22, 61, 34)}"
      ]
     },
     "execution_count": 1,
     "metadata": {},
     "output_type": "execute_result"
    }
   ],
   "source": [
    "{1:34, \"key2\": [55, 67, 78, 89], 4: (45, 22, 61, 34)}"
   ]
  },
  {
   "cell_type": "code",
   "execution_count": 26,
   "metadata": {},
   "outputs": [],
   "source": [
    "D = {1:34, \"key2\": [55, 67, 78, 89], 4: (45, 22, 61, 34)}"
   ]
  },
  {
   "cell_type": "code",
   "execution_count": 27,
   "metadata": {},
   "outputs": [
    {
     "name": "stdout",
     "output_type": "stream",
     "text": [
      "[1, 'key2', 4]\n",
      "[34, [55, 67, 78, 89], (45, 22, 61, 34)]\n"
     ]
    }
   ],
   "source": [
    "D_key_list = list(D.keys())\n",
    "D_value_list = list(D.values())\n",
    "print(D_key_list)\n",
    "print(D_value_list)"
   ]
  },
  {
   "cell_type": "code",
   "execution_count": null,
   "metadata": {},
   "outputs": [],
   "source": []
  }
 ],
 "metadata": {
  "colab": {
   "provenance": []
  },
  "kernelspec": {
   "display_name": "Python 3 (ipykernel)",
   "language": "python",
   "name": "python3"
  },
  "language_info": {
   "codemirror_mode": {
    "name": "ipython",
    "version": 3
   },
   "file_extension": ".py",
   "mimetype": "text/x-python",
   "name": "python",
   "nbconvert_exporter": "python",
   "pygments_lexer": "ipython3",
   "version": "3.10.8"
  }
 },
 "nbformat": 4,
 "nbformat_minor": 4
}
